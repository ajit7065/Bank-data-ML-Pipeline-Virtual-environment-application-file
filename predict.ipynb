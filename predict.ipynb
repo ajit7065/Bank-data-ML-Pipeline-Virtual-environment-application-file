{
 "cells": [
  {
   "cell_type": "code",
   "execution_count": 28,
   "metadata": {},
   "outputs": [],
   "source": [
    "import pickle\n",
    "import numpy as np"
   ]
  },
  {
   "cell_type": "code",
   "execution_count": 29,
   "metadata": {},
   "outputs": [],
   "source": [
    "pipe = pickle.load(open('Bank_With_Pipeline.pkl','rb'))"
   ]
  },
  {
   "cell_type": "code",
   "execution_count": 36,
   "metadata": {},
   "outputs": [],
   "source": [
    "# Assume user input\n",
    "test_input2 = np.array([43, 'technician', 'married', 'secondary', 'no', 0, 'no', 'yes', 'cellular', 8, 'may', 9, 2, 172, 5, 'failure'], dtype=object).reshape(1, 16)\n"
   ]
  },
  {
   "cell_type": "code",
   "execution_count": 37,
   "metadata": {},
   "outputs": [
    {
     "name": "stdout",
     "output_type": "stream",
     "text": [
      "[0]\n"
     ]
    }
   ],
   "source": [
    "import pandas as pd\n",
    "\n",
    "# Define column names\n",
    "columns = ['age', 'job', 'marital', 'education', 'default', 'balance', 'housing', \n",
    "           'loan', 'contact', 'day', 'month', 'duration', 'campaign', 'pdays', \n",
    "           'previous', 'poutcome']\n",
    "\n",
    "# Convert the NumPy array into a DataFrame\n",
    "test_input2_df = pd.DataFrame(test_input2, columns=columns)\n",
    "\n",
    "# Make predictions using the pipeline\n",
    "predictions = pipe.predict(test_input2_df)\n",
    "\n",
    "# Print the predictions\n",
    "print(predictions)\n"
   ]
  }
 ],
 "metadata": {
  "kernelspec": {
   "display_name": "myenv",
   "language": "python",
   "name": "python3"
  },
  "language_info": {
   "codemirror_mode": {
    "name": "ipython",
    "version": 3
   },
   "file_extension": ".py",
   "mimetype": "text/x-python",
   "name": "python",
   "nbconvert_exporter": "python",
   "pygments_lexer": "ipython3",
   "version": "3.10.11"
  }
 },
 "nbformat": 4,
 "nbformat_minor": 2
}
